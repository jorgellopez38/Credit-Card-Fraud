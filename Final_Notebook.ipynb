{
 "cells": [
  {
   "cell_type": "markdown",
   "id": "01ef6a85",
   "metadata": {},
   "source": [
    "# Credit Card Fraud Detection<br>\n",
    "### Project Goals\n",
    "- Discover drivers of fraud from credit card data\n",
    "- Use these drivers to develop a machine learning model that helps predicts fraud\n",
    "- This information could be used on future datasets to help detect fraud"
   ]
  },
  {
   "cell_type": "code",
   "execution_count": 1,
   "id": "73ef234b",
   "metadata": {},
   "outputs": [],
   "source": [
    "# data science imports\n",
    "import pandas as pd\n",
    "import numpy as np\n",
    "import os\n",
    "import seaborn as sns\n",
    "import matplotlib.pyplot as plt\n",
    "# ML imports\n",
    "from sklearn.model_selection import train_test_split\n",
    "from sklearn.preprocessing import MinMaxScaler\n",
    "from sklearn.ensemble import RandomForestClassifier\n",
    "from sklearn.tree import DecisionTreeClassifier, plot_tree\n",
    "from sklearn.neighbors import KNeighborsClassifier\n",
    "from sklearn.linear_model import LogisticRegression\n",
    "# no warnings \n",
    "import warnings\n",
    "warnings.filterwarnings(\"ignore\")\n",
    "# premade functions\n",
    "import wrangle as w\n",
    "import explore as e\n",
    "import model as m"
   ]
  },
  {
   "cell_type": "markdown",
   "id": "00f73b96",
   "metadata": {},
   "source": [
    "# Acquire<br>\n",
    "- Data aquired from Kaggle  \n",
    "- Data frame containted 1,000,000 rows and 8 columns before cleaning  \n",
    "- Each row represents a credit card transaction  \n",
    "- Each column represents a feature associated with the transaction  "
   ]
  },
  {
   "cell_type": "code",
   "execution_count": 2,
   "id": "3dacee0d",
   "metadata": {},
   "outputs": [
    {
     "data": {
      "text/html": [
       "<div>\n",
       "<style scoped>\n",
       "    .dataframe tbody tr th:only-of-type {\n",
       "        vertical-align: middle;\n",
       "    }\n",
       "\n",
       "    .dataframe tbody tr th {\n",
       "        vertical-align: top;\n",
       "    }\n",
       "\n",
       "    .dataframe thead th {\n",
       "        text-align: right;\n",
       "    }\n",
       "</style>\n",
       "<table border=\"1\" class=\"dataframe\">\n",
       "  <thead>\n",
       "    <tr style=\"text-align: right;\">\n",
       "      <th></th>\n",
       "      <th>distance_from_home</th>\n",
       "      <th>distance_from_last_transaction</th>\n",
       "      <th>ratio_to_median_purchase_price</th>\n",
       "      <th>repeat_retailer</th>\n",
       "      <th>used_chip</th>\n",
       "      <th>used_pin_number</th>\n",
       "      <th>online_order</th>\n",
       "      <th>fraud</th>\n",
       "    </tr>\n",
       "  </thead>\n",
       "  <tbody>\n",
       "    <tr>\n",
       "      <th>0</th>\n",
       "      <td>57.877857</td>\n",
       "      <td>0.311140</td>\n",
       "      <td>1.945940</td>\n",
       "      <td>1.0</td>\n",
       "      <td>1.0</td>\n",
       "      <td>0.0</td>\n",
       "      <td>0.0</td>\n",
       "      <td>0.0</td>\n",
       "    </tr>\n",
       "    <tr>\n",
       "      <th>1</th>\n",
       "      <td>10.829943</td>\n",
       "      <td>0.175592</td>\n",
       "      <td>1.294219</td>\n",
       "      <td>1.0</td>\n",
       "      <td>0.0</td>\n",
       "      <td>0.0</td>\n",
       "      <td>0.0</td>\n",
       "      <td>0.0</td>\n",
       "    </tr>\n",
       "    <tr>\n",
       "      <th>2</th>\n",
       "      <td>5.091079</td>\n",
       "      <td>0.805153</td>\n",
       "      <td>0.427715</td>\n",
       "      <td>1.0</td>\n",
       "      <td>0.0</td>\n",
       "      <td>0.0</td>\n",
       "      <td>1.0</td>\n",
       "      <td>0.0</td>\n",
       "    </tr>\n",
       "  </tbody>\n",
       "</table>\n",
       "</div>"
      ],
      "text/plain": [
       "   distance_from_home  distance_from_last_transaction  \\\n",
       "0           57.877857                        0.311140   \n",
       "1           10.829943                        0.175592   \n",
       "2            5.091079                        0.805153   \n",
       "\n",
       "   ratio_to_median_purchase_price  repeat_retailer  used_chip  \\\n",
       "0                        1.945940              1.0        1.0   \n",
       "1                        1.294219              1.0        0.0   \n",
       "2                        0.427715              1.0        0.0   \n",
       "\n",
       "   used_pin_number  online_order  fraud  \n",
       "0              0.0           0.0    0.0  \n",
       "1              0.0           0.0    0.0  \n",
       "2              0.0           1.0    0.0  "
      ]
     },
     "execution_count": 2,
     "metadata": {},
     "output_type": "execute_result"
    }
   ],
   "source": [
    "# Use wrangle function to import raw data\n",
    "df = w.wrangle_cc()\n",
    "# take a peak\n",
    "df.head(3)"
   ]
  },
  {
   "cell_type": "markdown",
   "id": "4ee6ad55",
   "metadata": {},
   "source": [
    "# Prepare<br>\n",
    "- Data came pythonic and not much was needed in terms of readability\n",
    "- I checked for nulls and none were present\n",
    "- I checked for outliers and though there were some, I chose to keep as they were needed"
   ]
  },
  {
   "cell_type": "markdown",
   "id": "5c7d572e",
   "metadata": {},
   "source": [
    "# Data Dictionary\n",
    "This will help with any questions or information on this dataset"
   ]
  },
  {
   "cell_type": "markdown",
   "id": "aa7ebd3c",
   "metadata": {},
   "source": [
    "| Name                 | Definition |\n",
    "| -------------------- | ---------- |\n",
    "| distance_from_home | The distance from home where the transaction happened |\n",
    "| distance_from_last_transaction | The distance from last transaction |\n",
    "| ratio_to_median_purchase_price | Ratio of purchased price transaction to median purchase price. |\n",
    "| repeat_retailer      | Binary, specifies if the transaction happened from same retailer. |\n",
    "| used_chip           | Binary, specifies if the transaction through chip (credit card). |\n",
    "| used_pin_number  | Binary, specifies if the transaction happened by using PIN number. |\n",
    "| online_order | Binary, specifies if the transaction is an online order. |\n",
    "| fraud              | Binary, specifies if the transaction is fraudulent. |\n"
   ]
  },
  {
   "cell_type": "markdown",
   "id": "5baf261f",
   "metadata": {},
   "source": [
    "# Split data into train/validate/test sample dataframes"
   ]
  },
  {
   "cell_type": "code",
   "execution_count": 3,
   "id": "e15454c4",
   "metadata": {},
   "outputs": [
    {
     "name": "stdout",
     "output_type": "stream",
     "text": [
      "train -> (560000, 8)\n",
      "validate -> (240000, 8)\n",
      "test -> (200000, 8)\n"
     ]
    }
   ],
   "source": [
    "# function to split data and print shape of our splits\n",
    "train, validate, test, X_train, y_train, X_validate, y_validate, X_test, y_test = w.split_data(df, \n",
    "                                                                                              'fraud')"
   ]
  },
  {
   "cell_type": "markdown",
   "id": "bacb392c",
   "metadata": {},
   "source": [
    "# Exploration<br>\n",
    "- Here we will be asking some questions of our data\n",
    "- We will then support these questions with visuals and statistical tests"
   ]
  },
  {
   "cell_type": "code",
   "execution_count": 4,
   "id": "79edc873",
   "metadata": {},
   "outputs": [
    {
     "data": {
      "image/png": "[encoded data removed]",
      "text/plain": [
       "<Figure size 640x480 with 1 Axes>"
      ]
     },
     "metadata": {},
     "output_type": "display_data"
    }
   ],
   "source": [
    "# function for big questions\n",
    "e.big_question(train)"
   ]
  },
  {
   "cell_type": "code",
   "execution_count": 5,
   "id": "d39d4ff6",
   "metadata": {
    "scrolled": false
   },
   "outputs": [
    {
     "data": {
      "image/png": "[encoded data removed]",
      "text/plain": [
       "<Figure size 640x480 with 1 Axes>"
      ]
     },
     "metadata": {},
     "output_type": "display_data"
    }
   ],
   "source": [
    "# function for visual 1\n",
    "e.question_1_visual(train)"
   ]
  },
  {
   "cell_type": "code",
   "execution_count": 6,
   "id": "85444c1f",
   "metadata": {},
   "outputs": [
    {
     "data": {
      "text/markdown": [
       "# Question #1:"
      ],
      "text/plain": [
       "<IPython.core.display.Markdown object>"
      ]
     },
     "metadata": {},
     "output_type": "display_data"
    },
    {
     "data": {
      "text/markdown": [
       "# Do Fraud and Online Ordering have a Relationship?"
      ],
      "text/plain": [
       "<IPython.core.display.Markdown object>"
      ]
     },
     "metadata": {},
     "output_type": "display_data"
    },
    {
     "data": {
      "text/markdown": [
       "### Hypothesis:"
      ],
      "text/plain": [
       "<IPython.core.display.Markdown object>"
      ]
     },
     "metadata": {},
     "output_type": "display_data"
    },
    {
     "data": {
      "text/markdown": [
       "$H_0$: There is no relationship between `online_order` to `fraud`"
      ],
      "text/plain": [
       "<IPython.core.display.Markdown object>"
      ]
     },
     "metadata": {},
     "output_type": "display_data"
    },
    {
     "data": {
      "text/markdown": [
       "$H_A$: There is a relationship between `online_order` and `fraud` "
      ],
      "text/plain": [
       "<IPython.core.display.Markdown object>"
      ]
     },
     "metadata": {},
     "output_type": "display_data"
    },
    {
     "data": {
      "text/markdown": [
       "### Statistics Test:"
      ],
      "text/plain": [
       "<IPython.core.display.Markdown object>"
      ]
     },
     "metadata": {},
     "output_type": "display_data"
    },
    {
     "data": {
      "text/markdown": [
       "### `Chi-Square = 20505.323211877636`"
      ],
      "text/plain": [
       "<IPython.core.display.Markdown object>"
      ]
     },
     "metadata": {},
     "output_type": "display_data"
    },
    {
     "data": {
      "text/markdown": [
       "### Results:"
      ],
      "text/plain": [
       "<IPython.core.display.Markdown object>"
      ]
     },
     "metadata": {},
     "output_type": "display_data"
    },
    {
     "data": {
      "text/markdown": [
       "### Reject $H_0$"
      ],
      "text/plain": [
       "<IPython.core.display.Markdown object>"
      ]
     },
     "metadata": {},
     "output_type": "display_data"
    },
    {
     "data": {
      "text/markdown": [
       "There exists some relationship between online_order and fraud. (p-value: 0.0000)"
      ],
      "text/plain": [
       "<IPython.core.display.Markdown object>"
      ]
     },
     "metadata": {},
     "output_type": "display_data"
    }
   ],
   "source": [
    "# function for stats test on question 1\n",
    "e.question_hypothesis_test(1,train,'online_order',\n",
    "                            'Do Fraud and Online Ordering have a Relationship?',\n",
    "                            'fraud',alpha=.05)"
   ]
  },
  {
   "cell_type": "code",
   "execution_count": 7,
   "id": "a54949e8",
   "metadata": {},
   "outputs": [
    {
     "data": {
      "image/png": "[encoded data removed]",
      "text/plain": [
       "<Figure size 640x480 with 1 Axes>"
      ]
     },
     "metadata": {},
     "output_type": "display_data"
    }
   ],
   "source": [
    "# function for visual 2\n",
    "e.question_2_visual(train)"
   ]
  },
  {
   "cell_type": "code",
   "execution_count": 8,
   "id": "f4527f47",
   "metadata": {},
   "outputs": [
    {
     "data": {
      "text/markdown": [
       "# Question #2:"
      ],
      "text/plain": [
       "<IPython.core.display.Markdown object>"
      ]
     },
     "metadata": {},
     "output_type": "display_data"
    },
    {
     "data": {
      "text/markdown": [
       "# Does The Use Of a Pin and Fraud Have a Relationship?"
      ],
      "text/plain": [
       "<IPython.core.display.Markdown object>"
      ]
     },
     "metadata": {},
     "output_type": "display_data"
    },
    {
     "data": {
      "text/markdown": [
       "### Hypothesis:"
      ],
      "text/plain": [
       "<IPython.core.display.Markdown object>"
      ]
     },
     "metadata": {},
     "output_type": "display_data"
    },
    {
     "data": {
      "text/markdown": [
       "$H_0$: There is no relationship between `used_pin_number` to `fraud`"
      ],
      "text/plain": [
       "<IPython.core.display.Markdown object>"
      ]
     },
     "metadata": {},
     "output_type": "display_data"
    },
    {
     "data": {
      "text/markdown": [
       "$H_A$: There is a relationship between `used_pin_number` and `fraud` "
      ],
      "text/plain": [
       "<IPython.core.display.Markdown object>"
      ]
     },
     "metadata": {},
     "output_type": "display_data"
    },
    {
     "data": {
      "text/markdown": [
       "### Statistics Test:"
      ],
      "text/plain": [
       "<IPython.core.display.Markdown object>"
      ]
     },
     "metadata": {},
     "output_type": "display_data"
    },
    {
     "data": {
      "text/markdown": [
       "### `Chi-Square = 5592.074653318332`"
      ],
      "text/plain": [
       "<IPython.core.display.Markdown object>"
      ]
     },
     "metadata": {},
     "output_type": "display_data"
    },
    {
     "data": {
      "text/markdown": [
       "### Results:"
      ],
      "text/plain": [
       "<IPython.core.display.Markdown object>"
      ]
     },
     "metadata": {},
     "output_type": "display_data"
    },
    {
     "data": {
      "text/markdown": [
       "### Reject $H_0$"
      ],
      "text/plain": [
       "<IPython.core.display.Markdown object>"
      ]
     },
     "metadata": {},
     "output_type": "display_data"
    },
    {
     "data": {
      "text/markdown": [
       "There exists some relationship between used_pin_number and fraud. (p-value: 0.0000)"
      ],
      "text/plain": [
       "<IPython.core.display.Markdown object>"
      ]
     },
     "metadata": {},
     "output_type": "display_data"
    }
   ],
   "source": [
    "# function for stats test on question 2\n",
    "e.question_hypothesis_test(2,train,'used_pin_number',\n",
    "                            'Does The Use Of a Pin and Fraud Have a Relationship?',\n",
    "                            'fraud',alpha=.05)"
   ]
  },
  {
   "cell_type": "code",
   "execution_count": 9,
   "id": "b293fe2f",
   "metadata": {},
   "outputs": [],
   "source": [
    "# function for visual 3\n",
    "#e.question_3_visual(train)"
   ]
  },
  {
   "cell_type": "code",
   "execution_count": 4,
   "id": "1caaa3fa",
   "metadata": {},
   "outputs": [
    {
     "name": "stdout",
     "output_type": "stream",
     "text": [
      "We reject the null hypothesis, there is correlation\n",
      "correlation: 0.46196634555217075\n",
      "p:           0.0\n"
     ]
    }
   ],
   "source": [
    "# function for stats test on questions 3\n",
    "e.question_hypothesis_test3(train)"
   ]
  },
  {
   "cell_type": "code",
   "execution_count": 11,
   "id": "74c6a280",
   "metadata": {},
   "outputs": [],
   "source": [
    "# function for visual 4\n",
    "e.question_4_visual(train)"
   ]
  },
  {
   "cell_type": "code",
   "execution_count": 5,
   "id": "0156ca61",
   "metadata": {},
   "outputs": [
    {
     "name": "stdout",
     "output_type": "stream",
     "text": [
      "We reject the null hypothesis, there is correlation\n",
      "correlation: 0.18788108422191152\n",
      "p:           0.0\n"
     ]
    }
   ],
   "source": [
    "# function for stats test on question 4\n",
    "e.question_hypothesis_test4(train)"
   ]
  },
  {
   "cell_type": "markdown",
   "id": "d3adbdec",
   "metadata": {},
   "source": [
    "# Exploration Summary<br>\n",
    "- ratio_to_median_purchase_price had some correlation\n",
    "- distance_from_home also had some correlatio, but no enough to move forward\n",
    "- used_pin_number proved to have significance with fraud\n",
    "- online_ordering also proved to have significance with fraud<br>\n",
    "\n",
    "#### We are moving forward to include these drivers in our model:\n",
    "- ratio_to_median_purchase_price\n",
    "- used_pin_number\n",
    "- online_ordering"
   ]
  },
  {
   "cell_type": "markdown",
   "id": "db018c5a",
   "metadata": {},
   "source": [
    "# Modeling<br>\n",
    "We ran the algorithms below to see what fit the data best."
   ]
  },
  {
   "cell_type": "markdown",
   "id": "f9e268ef",
   "metadata": {},
   "source": [
    "## Making the Baseline"
   ]
  },
  {
   "cell_type": "code",
   "execution_count": 13,
   "id": "052c4ca5",
   "metadata": {},
   "outputs": [
    {
     "data": {
      "text/markdown": [
       "### Baseline: 91.26%"
      ],
      "text/plain": [
       "<IPython.core.display.Markdown object>"
      ]
     },
     "metadata": {},
     "output_type": "display_data"
    }
   ],
   "source": [
    "# function to generate baseline\n",
    "m.get_baseline(df)"
   ]
  },
  {
   "cell_type": "markdown",
   "id": "df951467",
   "metadata": {},
   "source": [
    "## Random Forest"
   ]
  },
  {
   "cell_type": "code",
   "execution_count": 14,
   "id": "d1dd8fb6",
   "metadata": {},
   "outputs": [
    {
     "name": "stdout",
     "output_type": "stream",
     "text": [
      "Random Forest Model\n",
      "Accuracy of Random Forest on train data: 99.95%\n",
      "Accuracy of Random Forest on validate: 99.95%\n"
     ]
    }
   ],
   "source": [
    "# function to get random forest algorithm\n",
    "m.get_rf(X_train, y_train, X_validate, y_validate)"
   ]
  },
  {
   "cell_type": "markdown",
   "id": "81fbb16f",
   "metadata": {},
   "source": [
    "## Logistic Regression"
   ]
  },
  {
   "cell_type": "code",
   "execution_count": 15,
   "id": "8fa2e9ff",
   "metadata": {},
   "outputs": [
    {
     "name": "stdout",
     "output_type": "stream",
     "text": [
      "Logistic Regression Model\n",
      "Accuracy of Logistic Regression on train: 95.73%\n",
      "Accuracy of Logistic Regression on validate: 95.69%\n"
     ]
    }
   ],
   "source": [
    "# function to get logistic regression algorithm\n",
    "m.get_logit(X_train, y_train, X_validate, y_validate)"
   ]
  },
  {
   "cell_type": "markdown",
   "id": "fb883f83",
   "metadata": {},
   "source": [
    "## K Nearest Neighboor"
   ]
  },
  {
   "cell_type": "code",
   "execution_count": 16,
   "id": "3bd2fffd",
   "metadata": {},
   "outputs": [
    {
     "name": "stdout",
     "output_type": "stream",
     "text": [
      "KNN Model\n",
      "Accuracy of KNN on train: 99.38%\n",
      "Accuracy of KNN on validate: 98.31%\n"
     ]
    }
   ],
   "source": [
    "# function to get knn algorithm\n",
    "m.get_knn(X_train, y_train, X_validate, y_validate)"
   ]
  },
  {
   "cell_type": "markdown",
   "id": "771ac9bb",
   "metadata": {},
   "source": [
    "## Descision Tree"
   ]
  },
  {
   "cell_type": "code",
   "execution_count": 17,
   "id": "92ff7341",
   "metadata": {},
   "outputs": [
    {
     "name": "stdout",
     "output_type": "stream",
     "text": [
      "Decision Tree Model\n",
      "Accuracy of Decision Tree on train: 99.88%\n",
      "Accuracy of Decision Tree on validate: 99.87%\n"
     ]
    }
   ],
   "source": [
    "# function to get knn algorithm\n",
    "m.get_clf(X_train, y_train, X_validate, y_validate)"
   ]
  },
  {
   "cell_type": "markdown",
   "id": "608018ea",
   "metadata": {},
   "source": [
    "# Visualize All Models"
   ]
  },
  {
   "cell_type": "code",
   "execution_count": 18,
   "id": "ba2f97e5",
   "metadata": {},
   "outputs": [
    {
     "data": {
      "text/plain": [
       "<Figure size 1100x850 with 0 Axes>"
      ]
     },
     "metadata": {},
     "output_type": "display_data"
    },
    {
     "data": {
      "image/png": "[encoded data removed]",
      "text/plain": [
       "<Figure size 640x480 with 1 Axes>"
      ]
     },
     "metadata": {},
     "output_type": "display_data"
    }
   ],
   "source": [
    "#function for visual of top models\n",
    "m.get_top_models(X_train, y_train, X_validate, y_validate)"
   ]
  },
  {
   "cell_type": "markdown",
   "id": "75fe3509",
   "metadata": {},
   "source": [
    "<div class=\"alert alert-success\" role=\"alert\">\n",
    "    <B>TAKEAWAY:</B> We are going with the Random Forest model for test, as it achieved the highest Accuracy on of <b>99.95%</b> and <b>99.95%</b> on Train and Validate, respectively. \n",
    "</div>"
   ]
  },
  {
   "cell_type": "markdown",
   "id": "eb176dae",
   "metadata": {},
   "source": [
    "# Test Model<br>\n",
    "- We are choosing the Random Forest model as it has the highest accuracy.\n",
    "- We will now run our model on the test data to gauge how it will perform on unseen data."
   ]
  },
  {
   "cell_type": "code",
   "execution_count": 19,
   "id": "834fefd8",
   "metadata": {},
   "outputs": [
    {
     "data": {
      "text/markdown": [
       "### Random Forest Model"
      ],
      "text/plain": [
       "<IPython.core.display.Markdown object>"
      ]
     },
     "metadata": {},
     "output_type": "display_data"
    },
    {
     "data": {
      "text/markdown": [
       "### Accuracy on Test 99.94%"
      ],
      "text/plain": [
       "<IPython.core.display.Markdown object>"
      ]
     },
     "metadata": {},
     "output_type": "display_data"
    }
   ],
   "source": [
    "# function to get test \n",
    "m.get_test(X_train, y_train, X_test, y_test)"
   ]
  },
  {
   "cell_type": "markdown",
   "id": "1c2aefb1",
   "metadata": {},
   "source": [
    "# Test Versus Baseline Visual"
   ]
  },
  {
   "cell_type": "code",
   "execution_count": 20,
   "id": "f8e3ff14",
   "metadata": {},
   "outputs": [
    {
     "data": {
      "image/png": "[encoded data removed]",
      "text/plain": [
       "<Figure size 640x480 with 1 Axes>"
      ]
     },
     "metadata": {},
     "output_type": "display_data"
    }
   ],
   "source": [
    "# functions to get visual on test vs baseline\n",
    "m.get_mvb(X_train, y_train, X_test, y_test, df)"
   ]
  },
  {
   "cell_type": "markdown",
   "id": "b75491cc",
   "metadata": {},
   "source": [
    "## Modeling Wrap\n",
    "The Random Forest model outperforms the baseline and I would recommend to use this model, as it beat it by almost 9%"
   ]
  },
  {
   "cell_type": "markdown",
   "id": "a8d5b841",
   "metadata": {},
   "source": [
    "# Conclusion<br>\n",
    "### Summary\n",
    "- ratio_to_median_purchase_price had some correlation\n",
    "- distance_from_home also had some correlatio, but no enough to move forward\n",
    "- used_pin_number proved to have significance with fraud\n",
    "- online_ordering also proved to have significance with fraud"
   ]
  },
  {
   "cell_type": "markdown",
   "id": "2f66e277",
   "metadata": {},
   "source": [
    "# Recommendations<br>\n",
    "- Adding a feature for mean purchases in a day can help with modeling\n",
    "- Adding a feature for distance from work could also help as we spend most time at our homes and jobs\n",
    "- Purchase amounts can be helpful as well"
   ]
  },
  {
   "cell_type": "markdown",
   "id": "2dc6a0f2",
   "metadata": {},
   "source": [
    "# Next Steps<br>\n",
    "- If provided more time to work on this project I would try and use scaling with my modeling and I would also try and bin the distance and ratio to median purchase price to use for modeling."
   ]
  }
 ],
 "metadata": {
  "kernelspec": {
   "display_name": "Python 3 (ipykernel)",
   "language": "python",
   "name": "python3"
  },
  "language_info": {
   "codemirror_mode": {
    "name": "ipython",
    "version": 3
   },
   "file_extension": ".py",
   "mimetype": "text/x-python",
   "name": "python",
   "nbconvert_exporter": "python",
   "pygments_lexer": "ipython3",
   "version": "3.9.13"
  }
 },
 "nbformat": 4,
 "nbformat_minor": 5
}
