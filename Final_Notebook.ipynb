{
 "cells": [
  {
   "cell_type": "markdown",
   "id": "2f66f24b",
   "metadata": {},
   "source": [
    "# Credit Card Fraud Detection<br>\n",
    "### Project Goals\n",
    "- Discover drivers of fraud from credit card data\n",
    "-Use these drivers to develop a machine learning model that helps predicts fraud\n",
    "-This information could be used on future datasets to help detect fraud"
   ]
  },
  {
   "cell_type": "code",
   "execution_count": 1,
   "id": "10a8a550",
   "metadata": {},
   "outputs": [],
   "source": [
    "# data science imports\n",
    "import pandas as pd\n",
    "import numpy as np\n",
    "import os\n",
    "import seaborn as sns\n",
    "import matplotlib.pyplot as plt\n",
    "# ML imports\n",
    "from sklearn.model_selection import train_test_split\n",
    "from sklearn.preprocessing import MinMaxScaler\n",
    "from sklearn.ensemble import RandomForestClassifier\n",
    "from sklearn.tree import DecisionTreeClassifier, plot_tree\n",
    "from sklearn.neighbors import KNeighborsClassifier\n",
    "from sklearn.linear_model import LogisticRegression\n",
    "# no warnings \n",
    "import warnings\n",
    "warnings.filterwarnings(\"ignore\")\n",
    "# premade functions\n",
    "import wrangle as w"
   ]
  },
  {
   "cell_type": "markdown",
   "id": "f4dd2cf2",
   "metadata": {},
   "source": [
    "# Acquire<br>\n",
    "-Data aquired from Kaggle  \n",
    "-Data frame containted 1,000,000 rows and 8 columns before cleaning  \n",
    "-Each row represents a credit card transaction  \n",
    "-Each column represents a feature associated with the transaction  "
   ]
  },
  {
   "cell_type": "code",
   "execution_count": 2,
   "id": "2af46f56",
   "metadata": {},
   "outputs": [
    {
     "data": {
      "text/html": [
       "<div>\n",
       "<style scoped>\n",
       "    .dataframe tbody tr th:only-of-type {\n",
       "        vertical-align: middle;\n",
       "    }\n",
       "\n",
       "    .dataframe tbody tr th {\n",
       "        vertical-align: top;\n",
       "    }\n",
       "\n",
       "    .dataframe thead th {\n",
       "        text-align: right;\n",
       "    }\n",
       "</style>\n",
       "<table border=\"1\" class=\"dataframe\">\n",
       "  <thead>\n",
       "    <tr style=\"text-align: right;\">\n",
       "      <th></th>\n",
       "      <th>distance_from_home</th>\n",
       "      <th>distance_from_last_transaction</th>\n",
       "      <th>ratio_to_median_purchase_price</th>\n",
       "      <th>repeat_retailer</th>\n",
       "      <th>used_chip</th>\n",
       "      <th>used_pin_number</th>\n",
       "      <th>online_order</th>\n",
       "      <th>fraud</th>\n",
       "    </tr>\n",
       "  </thead>\n",
       "  <tbody>\n",
       "    <tr>\n",
       "      <th>0</th>\n",
       "      <td>57.877857</td>\n",
       "      <td>0.31114</td>\n",
       "      <td>1.94594</td>\n",
       "      <td>1.0</td>\n",
       "      <td>1.0</td>\n",
       "      <td>0.0</td>\n",
       "      <td>0.0</td>\n",
       "      <td>0.0</td>\n",
       "    </tr>\n",
       "  </tbody>\n",
       "</table>\n",
       "</div>"
      ],
      "text/plain": [
       "   distance_from_home  distance_from_last_transaction  \\\n",
       "0           57.877857                         0.31114   \n",
       "\n",
       "   ratio_to_median_purchase_price  repeat_retailer  used_chip  \\\n",
       "0                         1.94594              1.0        1.0   \n",
       "\n",
       "   used_pin_number  online_order  fraud  \n",
       "0              0.0           0.0    0.0  "
      ]
     },
     "execution_count": 2,
     "metadata": {},
     "output_type": "execute_result"
    }
   ],
   "source": [
    "# Use wrangle function to import raw data\n",
    "df = w.wrangle_cc()\n",
    "# take a peak\n",
    "df.head(1)"
   ]
  },
  {
   "cell_type": "code",
   "execution_count": null,
   "id": "97429a04",
   "metadata": {},
   "outputs": [],
   "source": []
  },
  {
   "cell_type": "code",
   "execution_count": null,
   "id": "19fc46b3",
   "metadata": {},
   "outputs": [],
   "source": [
    "# Use prepare function to prep data \n",
    "df = w.prep_cc(df)\n",
    "# Quick peak into the cleaned data\n",
    "df.head(1)"
   ]
  },
  {
   "cell_type": "markdown",
   "id": "6542adb5",
   "metadata": {},
   "source": [
    "# Data Dictionary\n",
    "This will help with any questions or information on this dataset"
   ]
  },
  {
   "cell_type": "markdown",
   "id": "898755e2",
   "metadata": {},
   "source": [
    "| Name                 | Definition |\n",
    "| -------------------- | ---------- |\n",
    "| distance_from_home | The distance from home where the transaction happened |\n",
    "| distance_from_last_transaction | The distance from last transaction |\n",
    "| ratio_to_median_purchase_price | Ratio of purchased price transaction to median purchase price. |\n",
    "| repeat_retailer      | Binary, specifies if the transaction happened from same retailer. |\n",
    "| used_chip           | Binary, specifies if the transaction through chip (credit card). |\n",
    "| used_pin_number  | Binary, specifies if the transaction happened by using PIN number. |\n",
    "| online_order | Binary, specifies if the transaction is an online order. |\n",
    "| fraud              | Binary, specifies if the transaction is fraudulent. |\n"
   ]
  },
  {
   "cell_type": "markdown",
   "id": "04022e20",
   "metadata": {},
   "source": [
    "# Split data into train/validate/test sample dataframes"
   ]
  },
  {
   "cell_type": "code",
   "execution_count": null,
   "id": "77dad539",
   "metadata": {},
   "outputs": [],
   "source": [
    "# function to split data and print shape of our splits\n",
    "train, validate, test, X_train, y_train, X_validate, y_validate, X_test, y_test = w.split_data(wines, \n",
    "                                                                                              'quality')"
   ]
  },
  {
   "cell_type": "markdown",
   "id": "c4c0c495",
   "metadata": {},
   "source": [
    "# Exploration<br>\n",
    "- Here we will be asking some questions of our data\n",
    "- We will then support these questions with visuals and statistical tests"
   ]
  },
  {
   "cell_type": "code",
   "execution_count": null,
   "id": "881033fa",
   "metadata": {},
   "outputs": [],
   "source": [
    "# function for visual 1\n",
    "e.question_1_visual(train)"
   ]
  },
  {
   "cell_type": "code",
   "execution_count": null,
   "id": "ca5493c9",
   "metadata": {},
   "outputs": [],
   "source": [
    "# function for stats test on question 1\n",
    "e.question_hypothesis_test(1,train,'wine_color',\n",
    "                            'Does color affect wine quality?',\n",
    "                            'quality',alpha=.05)"
   ]
  },
  {
   "cell_type": "code",
   "execution_count": null,
   "id": "a630a1a2",
   "metadata": {},
   "outputs": [],
   "source": [
    "# function for visual 2\n",
    "mf.question_2_visual(train)"
   ]
  },
  {
   "cell_type": "code",
   "execution_count": null,
   "id": "89599c04",
   "metadata": {},
   "outputs": [],
   "source": [
    "# function for stats test on question 2\n",
    "e.question_hypothesis_test(2,train,'alcohol',\n",
    "                            'Does a higher quality mean higher alcohol content?',\n",
    "                            'quality',alpha=.05)"
   ]
  },
  {
   "cell_type": "code",
   "execution_count": null,
   "id": "c68826d7",
   "metadata": {},
   "outputs": [],
   "source": [
    "# function for visual 3\n",
    "e.question_3_visual(train)"
   ]
  },
  {
   "cell_type": "code",
   "execution_count": null,
   "id": "1254650b",
   "metadata": {},
   "outputs": [],
   "source": [
    "# function for stats test on questions 3\n",
    "e.question_hypothesis_test(3,train,'citric_acid',\n",
    "                            'Is there a relationship between Citric Acid and Quality?',\n",
    "                            'quality',alpha=.05)"
   ]
  },
  {
   "cell_type": "code",
   "execution_count": null,
   "id": "d7f170f3",
   "metadata": {},
   "outputs": [],
   "source": [
    "# function for visual 4\n",
    "e.question_4_visual(train)"
   ]
  },
  {
   "cell_type": "code",
   "execution_count": null,
   "id": "49552681",
   "metadata": {},
   "outputs": [],
   "source": [
    "# function for stats test on question 4\n",
    "e.question_hypothesis_test(4,train,'free_sulfur_dioxide',\n",
    "                            'Is there a relationship between Free Sulfur Dioxide and Quality?',\n",
    "                            'quality',alpha=.05)"
   ]
  },
  {
   "cell_type": "markdown",
   "id": "43e0f66d",
   "metadata": {},
   "source": [
    "# Exploration Summary<br>\n",
    "- \n",
    "- \n",
    "- <br>\n",
    "\n",
    "#### We are moving forward to include these drivers in our model:\n",
    "- \n",
    "- \n",
    "- "
   ]
  },
  {
   "cell_type": "markdown",
   "id": "db99c9c9",
   "metadata": {},
   "source": [
    "# Modeling<br>\n",
    "We ran the algorithms below to see what fit the data best."
   ]
  },
  {
   "cell_type": "code",
   "execution_count": null,
   "id": "1e246422",
   "metadata": {},
   "outputs": [],
   "source": []
  },
  {
   "cell_type": "markdown",
   "id": "12581565",
   "metadata": {},
   "source": [
    "## Baseline"
   ]
  },
  {
   "cell_type": "code",
   "execution_count": null,
   "id": "9feadad1",
   "metadata": {},
   "outputs": [],
   "source": [
    "# function to generate baseline\n",
    "m.get_baseline(wines)"
   ]
  },
  {
   "cell_type": "markdown",
   "id": "c9818db4",
   "metadata": {},
   "source": [
    "## Random Forest"
   ]
  },
  {
   "cell_type": "code",
   "execution_count": null,
   "id": "a2526e9a",
   "metadata": {},
   "outputs": [],
   "source": [
    "# function to get random forest algorithm\n",
    "m.get_rf(X_train, y_train, X_validate, y_validate)"
   ]
  },
  {
   "cell_type": "markdown",
   "id": "ddbb64fd",
   "metadata": {},
   "source": [
    "## Logistic Regression"
   ]
  },
  {
   "cell_type": "code",
   "execution_count": null,
   "id": "07c55c62",
   "metadata": {},
   "outputs": [],
   "source": [
    "# function to get logistic regression algorithm\n",
    "m.get_logit(X_train, y_train, X_validate, y_validate)"
   ]
  },
  {
   "cell_type": "markdown",
   "id": "0cb9aff3",
   "metadata": {},
   "source": [
    "## K Nearest Neighboor"
   ]
  },
  {
   "cell_type": "code",
   "execution_count": null,
   "id": "ea358b96",
   "metadata": {},
   "outputs": [],
   "source": [
    "# function to get knn algorithm\n",
    "m.get_knn(X_train, y_train, X_validate, y_validate)"
   ]
  },
  {
   "cell_type": "markdown",
   "id": "8ca576dc",
   "metadata": {},
   "source": [
    "## Descision Tree"
   ]
  },
  {
   "cell_type": "code",
   "execution_count": null,
   "id": "54febb05",
   "metadata": {},
   "outputs": [],
   "source": [
    "# function to get knn algorithm\n",
    "m.get_clf(X_train, y_train, X_validate, y_validate)"
   ]
  },
  {
   "cell_type": "markdown",
   "id": "d698c542",
   "metadata": {},
   "source": [
    "# Visualize All Models"
   ]
  },
  {
   "cell_type": "code",
   "execution_count": null,
   "id": "c0b9af1f",
   "metadata": {},
   "outputs": [],
   "source": [
    "#function for visual of top models\n",
    "m.get_top_models(X_train, y_train, X_validate, y_validate)"
   ]
  },
  {
   "cell_type": "markdown",
   "id": "187555c0",
   "metadata": {},
   "source": [
    "# Test Model<br>\n",
    "- We are choosing the Random Forest model as it has the highest accuracy.\n",
    "- We will now run our model on the test data to gauge how it will perform on unseen data."
   ]
  },
  {
   "cell_type": "code",
   "execution_count": null,
   "id": "bb49830c",
   "metadata": {},
   "outputs": [],
   "source": [
    "# function to get test \n",
    "m.get_test2(X_train, y_train, X_test, y_test)"
   ]
  },
  {
   "cell_type": "markdown",
   "id": "86c4d919",
   "metadata": {},
   "source": [
    "# Test Versus Baseline Visual"
   ]
  },
  {
   "cell_type": "code",
   "execution_count": null,
   "id": "84f8c090",
   "metadata": {},
   "outputs": [],
   "source": [
    "# functions to get visual on test vs baseline\n",
    "m.get_mvb(X_train, y_train, X_test, y_test, wines)"
   ]
  },
  {
   "cell_type": "markdown",
   "id": "c63f99ca",
   "metadata": {},
   "source": [
    "## Modeling Wrap\n",
    "The Random Forest model outperforms the baseline and I would recommend to use this model, as it beat the baseline by almost 9%"
   ]
  },
  {
   "cell_type": "markdown",
   "id": "b4776884",
   "metadata": {},
   "source": [
    "# Conclusion<br>\n",
    "### Summary\n",
    "- \n",
    "- \n",
    "- "
   ]
  },
  {
   "cell_type": "markdown",
   "id": "50f9b2dc",
   "metadata": {},
   "source": [
    "# Recommendations<br>\n",
    "- \n",
    "- \n",
    "- "
   ]
  },
  {
   "cell_type": "markdown",
   "id": "41c90b92",
   "metadata": {},
   "source": [
    "# Next Steps<br>\n",
    "- If provided more time to work on this project I would  "
   ]
  }
 ],
 "metadata": {
  "kernelspec": {
   "display_name": "Python 3 (ipykernel)",
   "language": "python",
   "name": "python3"
  },
  "language_info": {
   "codemirror_mode": {
    "name": "ipython",
    "version": 3
   },
   "file_extension": ".py",
   "mimetype": "text/x-python",
   "name": "python",
   "nbconvert_exporter": "python",
   "pygments_lexer": "ipython3",
   "version": "3.9.13"
  }
 },
 "nbformat": 4,
 "nbformat_minor": 5
}
